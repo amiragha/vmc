{
 "cells": [
  {
   "cell_type": "code",
   "execution_count": 1,
   "metadata": {},
   "outputs": [
    {
     "name": "stderr",
     "output_type": "stream",
     "text": [
      "\n",
      "WARNING: deprecated syntax \"inner constructor Measurement(...) around /home/amir/Work/vmc/src/measurement.jl:8\".\n",
      "Use \"Measurement{T}(...) where T\" instead.\n"
     ]
    }
   ],
   "source": [
    "push!(LOAD_PATH, \"/home/amir/Work/vmc/src/\")\n",
    "import Tmp"
   ]
  },
  {
   "cell_type": "code",
   "execution_count": 6,
   "metadata": {},
   "outputs": [
    {
     "name": "stdout",
     "output_type": "stream",
     "text": [
      "\u001b[1m\u001b[37mTest Summary: | \u001b[39m\u001b[22m\u001b[1m\u001b[32mPass  \u001b[39m\u001b[22m\u001b[1m\u001b[36mTotal\u001b[39m\u001b[22m\n",
      "DetMatrix     | \u001b[32m   8  \u001b[39m\u001b[36m    8\u001b[39m\n",
      "\u001b[1m\u001b[37mTest Summary: | \u001b[39m\u001b[22m"
     ]
    },
    {
     "name": "stderr",
     "output_type": "stream",
     "text": [
      "WARNING: replacing module Tmp\n"
     ]
    },
    {
     "name": "stdout",
     "output_type": "stream",
     "text": [
      "\u001b[1m\u001b[32mPass  \u001b[39m\u001b[22m\u001b[1m\u001b[36mTotal\u001b[39m\u001b[22m\n",
      "tools         | \u001b[32m   2  \u001b[39m\u001b[36m    2\u001b[39m\n"
     ]
    },
    {
     "data": {
      "text/plain": [
       "Base.Test.DefaultTestSet(\"tools\", Any[], 2, false)"
      ]
     },
     "execution_count": 6,
     "metadata": {},
     "output_type": "execute_result"
    }
   ],
   "source": [
    "reload(\"Tmp\")\n",
    "include(\"test/runtests.jl\")"
   ]
  },
  {
   "cell_type": "code",
   "execution_count": 7,
   "metadata": {},
   "outputs": [
    {
     "name": "stdout",
     "output_type": "stream",
     "text": [
      "dd*dd*d*dd*dd*dd**dd*dd*dd*dd*dd*dd*d*dd*dd*dd*dd*d*dd*d*d*dd*dd*dd*dd*dd*dd*dd*dd*d*d*dd*d*d*d*dd*dd*dd*d*dd*d*dd*dd*d*d*d*dd*d*dd*dd*dd*d*dd*dd*dd*d*d*d*dd*dd*dd*d*dd*dd*dd*dd*d*dd*dd*d*d*dd*dd*dd*dd*d*dd*d*dd*d*dd*dd*dd*dd*d*d*dd*d*dd*dd*dd*d*dd*d*dd*dd*dd*dd*d*dd*dd*dd*dd*dd*dd*dd*dd*d*d*dd*d*d*dd*d*dd*dd*dd*dd*dd*dd*dd*dd*dd*d*d*dd*d*d*d*d*dd*d*d**d*d*dd*d*d*dd*dd*d*dd*dd*dd*dd*dd*dd*d*dd*d*dd*dd*dd*dd*d*d*dd*dd*d*dd*dd*dd*dd*dd*d*d*dd*dd*dd*d*dd*dd*dd*dd*d*d*d*dd*d*d*d*dd*dd*d*dd*dd*dd*dd*d*dd*d*d*dd**d*dd**d*d*d**d*dd*dd*d*dd*dd**dd*dd*d*dd*dd*dd*dd*d*d*dd*dd*dd*dd*d*dd*dd*d*dd*d*dd*d*dd*dd*d*d*dd*d*d*dd*dd*d*dd*dd*d*dd*dd*d*dd*d*dd*d*dd*d*dd*dd*d*dd*d*dd*d*d*d*dd*dd*dd*dd*d*dd*d*d*d*dd*dd*d*dd*dd*dd*dd*d*dd*dd*dd*dd*d*d*d*d*d*dd*did*dd*did*dd*dd*dd*d*dd*dd*d*dd*dd*dd*dd*dd*dd*dd*dd*dd*d*dd*dd*d*dd*dd*dd*d*dd*dd*dd*dd*d*dd*dd*d*d*d*d*dd*d*d*dd*dd*dd*d*dd*dd*dd*dd*dd*dd*d*dd*dd**dd*d*dd*dd*d*dd*d*dd*d*dd*d*dd*dd*d*dd**dd*d*d*d*dd*d*dd*d*dd*dd*d*dd*dd*dd*dd*dd*dd*dd*dd*dd*d*dd*d*dd*d*d*dd*d*dd*d*dd*d*d*dd*dd*d*d*dd*d*d*\n",
      "Finished with 400000 of VMC for Model: kagomestripLC,Lx=32periodic,mu=-2.5,tcr=1.0,tcphi=0.0\n",
      "Number of proposed moves = 5092937\n",
      "Number of accepted moves = 400000\n"
     ]
    }
   ],
   "source": [
    "include(\"runs/runkagome.jl\")"
   ]
  },
  {
   "cell_type": "code",
   "execution_count": null,
   "metadata": {
    "collapsed": true
   },
   "outputs": [],
   "source": []
  }
 ],
 "metadata": {
  "kernelspec": {
   "display_name": "Julia 0.6.2",
   "language": "julia",
   "name": "julia-0.6"
  },
  "language_info": {
   "file_extension": ".jl",
   "mimetype": "application/julia",
   "name": "julia",
   "version": "0.6.2"
  }
 },
 "nbformat": 4,
 "nbformat_minor": 2
}
