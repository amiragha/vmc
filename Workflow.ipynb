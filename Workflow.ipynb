{
 "cells": [
  {
   "cell_type": "code",
   "execution_count": 5,
   "metadata": {},
   "outputs": [],
   "source": [
    "using Revise"
   ]
  },
  {
   "cell_type": "code",
   "execution_count": 24,
   "metadata": {},
   "outputs": [],
   "source": [
    "push!(LOAD_PATH, \"/home/amir/work/vmc/src/\")\n",
    "using VMC\n",
    "using HDF5"
   ]
  },
  {
   "cell_type": "code",
   "execution_count": 16,
   "metadata": {},
   "outputs": [
    {
     "name": "stdout",
     "output_type": "stream",
     "text": [
      "\u001b[37m\u001b[1mTest Summary: | \u001b[22m\u001b[39m\u001b[32m\u001b[1mPass  \u001b[22m\u001b[39m\u001b[36m\u001b[1mTotal\u001b[22m\u001b[39m\n",
      "DetMatrix     | \u001b[32m   8  \u001b[39m\u001b[36m    8\u001b[39m\n",
      "\u001b[37m\u001b[1mTest Summary: | \u001b[22m\u001b[39m\u001b[32m\u001b[1mPass  \u001b[22m\u001b[39m\u001b[36m\u001b[1mTotal\u001b[22m\u001b[39m\n",
      "tools         | \u001b[32m   2  \u001b[39m\u001b[36m    2\u001b[39m\n"
     ]
    },
    {
     "data": {
      "text/plain": [
       "Test.DefaultTestSet(\"tools\", Any[], 2, false)"
      ]
     },
     "execution_count": 16,
     "metadata": {},
     "output_type": "execute_result"
    }
   ],
   "source": [
    "include(\"test/runtests.jl\")"
   ]
  },
  {
   "cell_type": "code",
   "execution_count": 23,
   "metadata": {},
   "outputs": [
    {
     "name": "stdout",
     "output_type": "stream",
     "text": [
      "dd*dd*d*dd*d*dd*d*dd*d*dd*dd*dd*dd**d*dd*dd*dd*dd*dd*dd*d*d*dd*dd*dd*dd*dd*dd*dd*dd*dd*d*dd*dd*dd*dd*d*dd*d*dd*dd*d*dd*d*dd*d*dd*dd*dd*dd*dd**dd*dd*d*dd*d*dd*dd*dd*dd*dd*dd*d*d*d*d*dd*d*dd*dd*dd*d*dd*dd*dd*d*d*dd*dd*dd*dd*dd*dd*dd*dd*dd*dd*dd*dd*dd*dd*dd*dd*dd*d**dd*dd*dd*dd*d*dd*dd*dd*dd*d*dd*d*d*dd*d*dd*dd*d*dd*dd*dd*dd*d*dd*dd*dd*dd*d*dd*d*dd*d*dd**dd*dd*dd*dd*dd*dd*dd*d*dd*d*dd*dd*dd*dd*dd*d*d*dd*dd*dd*dd*dd*dd*dd*dd*dd*d*dd*dd*d*dd*d*d*dd**d*dd*dd*dd*dd*did*dd*dd*dd*dd*dd*dd*dd*dd*d*d*dd*dd*dd*dd*dd*dd*dd*dd*dd*dd*dd*dd*dd*dd*dd**dd*dd*d*d*d*dd*dd*dd*d*dd*dd*dd*d*dd*dd*d*dd*dd*dd*dd*d*dd*dd*d*dd*dd*dd*dd*d*dd*d*dd*dd*dd*d*dd*d*dd*d*d*dd*d*dd*dd*d*dd*dd*dd*d*dd*d*d*dd**d*dd*dd*d*d*dd*d*dd*dd*d*dd*d*dd*dd*dd*d*dd*dd*d*dd*d*d*dd*dd*dd*d*d*dd*dd*dd*dd*dd*dd*dd*dd*dd*dd*dd**dd*d*dd*dd*dd*dd*dd*dd*d*d*d*dd*dd*dd*dd*dd*dd*dd*dd*dd*dd*dd*dd*dd*d*dd*dd*dd*dd*dd*d*dd*d*dd*dd*dd*dd*dd*d*d*dd*dd*dd*dd*dd*d*dd*dd*dd*dd*dd*dd*dd*dd*d*d*dd*dd*dd*dd*dd*dd*dd*dd*d*dd*dd*dd*d*dd*dd*d*dd*d*d*dd*dd*dd*d*dd*d*dd*dd*dd*dd*dd*dd*dd*d*dd*dd*dd*dd*dd*dd*dd*dd*dd*d*dd*dd*dd*dd*dd*dd*dd*dd*dd*\n",
      "Finished with 400000 of VMC for Model: kagomestripLC,Lx=32periodic,mu=-2.5,tcr=1.0,tcphi=0.0\n",
      "Number of proposed moves = 5072401\n",
      "Number of accepted moves = 400000\n"
     ]
    }
   ],
   "source": [
    "include(\"runs/runkagome.jl\")"
   ]
  },
  {
   "cell_type": "code",
   "execution_count": null,
   "metadata": {
    "collapsed": true,
    "jupyter": {
     "outputs_hidden": true
    }
   },
   "outputs": [],
   "source": []
  }
 ],
 "metadata": {
  "kernelspec": {
   "display_name": "Julia 1.3.0",
   "language": "julia",
   "name": "julia-1.3"
  },
  "language_info": {
   "file_extension": ".jl",
   "mimetype": "application/julia",
   "name": "julia",
   "version": "1.3.0"
  }
 },
 "nbformat": 4,
 "nbformat_minor": 4
}
